{
 "cells": [
  {
   "cell_type": "markdown",
   "id": "22e154ab",
   "metadata": {},
   "source": [
    "# Descriptive Analysis of Spotify's Top songs\n",
    "**Data Source:** [Spotify Most Streamed Songs](https://www.kaggle.com/datasets/abdulszz/spotify-most-streamed-songs)"
   ]
  },
  {
   "cell_type": "code",
   "execution_count": 265,
   "id": "ed66987a",
   "metadata": {},
   "outputs": [],
   "source": [
    "import pandas as pd\n",
    "import matplotlib.pyplot as plt\n",
    "import seaborn as sns\n",
    "import numpy as np\n",
    "import re\n",
    "\n",
    "import warnings\n",
    "warnings.filterwarnings('ignore')\n",
    "pd.set_option('display.max_columns', None)"
   ]
  },
  {
   "cell_type": "code",
   "execution_count": 266,
   "id": "5ad730a6",
   "metadata": {},
   "outputs": [],
   "source": [
    "df = pd.read_csv(\"Spotify Most Streamed Songs.csv\")\n"
   ]
  },
  {
   "cell_type": "code",
   "execution_count": 267,
   "id": "38209e8c",
   "metadata": {},
   "outputs": [
    {
     "data": {
      "text/html": [
       "<div>\n",
       "<style scoped>\n",
       "    .dataframe tbody tr th:only-of-type {\n",
       "        vertical-align: middle;\n",
       "    }\n",
       "\n",
       "    .dataframe tbody tr th {\n",
       "        vertical-align: top;\n",
       "    }\n",
       "\n",
       "    .dataframe thead th {\n",
       "        text-align: right;\n",
       "    }\n",
       "</style>\n",
       "<table border=\"1\" class=\"dataframe\">\n",
       "  <thead>\n",
       "    <tr style=\"text-align: right;\">\n",
       "      <th></th>\n",
       "      <th>track_name</th>\n",
       "      <th>artist(s)_name</th>\n",
       "      <th>artist_count</th>\n",
       "      <th>released_year</th>\n",
       "      <th>released_month</th>\n",
       "      <th>released_day</th>\n",
       "      <th>in_spotify_playlists</th>\n",
       "      <th>in_spotify_charts</th>\n",
       "      <th>streams</th>\n",
       "      <th>in_apple_playlists</th>\n",
       "      <th>in_apple_charts</th>\n",
       "      <th>in_deezer_playlists</th>\n",
       "      <th>in_deezer_charts</th>\n",
       "      <th>in_shazam_charts</th>\n",
       "      <th>bpm</th>\n",
       "      <th>key</th>\n",
       "      <th>mode</th>\n",
       "      <th>danceability_%</th>\n",
       "      <th>valence_%</th>\n",
       "      <th>energy_%</th>\n",
       "      <th>acousticness_%</th>\n",
       "      <th>instrumentalness_%</th>\n",
       "      <th>liveness_%</th>\n",
       "      <th>speechiness_%</th>\n",
       "      <th>cover_url</th>\n",
       "    </tr>\n",
       "  </thead>\n",
       "  <tbody>\n",
       "    <tr>\n",
       "      <th>0</th>\n",
       "      <td>Seven (feat. Latto) (Explicit Ver.)</td>\n",
       "      <td>Latto, Jung Kook</td>\n",
       "      <td>2</td>\n",
       "      <td>2023</td>\n",
       "      <td>7</td>\n",
       "      <td>14</td>\n",
       "      <td>553</td>\n",
       "      <td>147</td>\n",
       "      <td>141381703</td>\n",
       "      <td>43</td>\n",
       "      <td>263</td>\n",
       "      <td>45</td>\n",
       "      <td>10</td>\n",
       "      <td>826</td>\n",
       "      <td>125</td>\n",
       "      <td>B</td>\n",
       "      <td>Major</td>\n",
       "      <td>80</td>\n",
       "      <td>89</td>\n",
       "      <td>83</td>\n",
       "      <td>31</td>\n",
       "      <td>0</td>\n",
       "      <td>8</td>\n",
       "      <td>4</td>\n",
       "      <td>Not Found</td>\n",
       "    </tr>\n",
       "    <tr>\n",
       "      <th>1</th>\n",
       "      <td>LALA</td>\n",
       "      <td>Myke Towers</td>\n",
       "      <td>1</td>\n",
       "      <td>2023</td>\n",
       "      <td>3</td>\n",
       "      <td>23</td>\n",
       "      <td>1474</td>\n",
       "      <td>48</td>\n",
       "      <td>133716286</td>\n",
       "      <td>48</td>\n",
       "      <td>126</td>\n",
       "      <td>58</td>\n",
       "      <td>14</td>\n",
       "      <td>382</td>\n",
       "      <td>92</td>\n",
       "      <td>C#</td>\n",
       "      <td>Major</td>\n",
       "      <td>71</td>\n",
       "      <td>61</td>\n",
       "      <td>74</td>\n",
       "      <td>7</td>\n",
       "      <td>0</td>\n",
       "      <td>10</td>\n",
       "      <td>4</td>\n",
       "      <td>https://i.scdn.co/image/ab67616d0000b2730656d5...</td>\n",
       "    </tr>\n",
       "    <tr>\n",
       "      <th>2</th>\n",
       "      <td>vampire</td>\n",
       "      <td>Olivia Rodrigo</td>\n",
       "      <td>1</td>\n",
       "      <td>2023</td>\n",
       "      <td>6</td>\n",
       "      <td>30</td>\n",
       "      <td>1397</td>\n",
       "      <td>113</td>\n",
       "      <td>140003974</td>\n",
       "      <td>94</td>\n",
       "      <td>207</td>\n",
       "      <td>91</td>\n",
       "      <td>14</td>\n",
       "      <td>949</td>\n",
       "      <td>138</td>\n",
       "      <td>F</td>\n",
       "      <td>Major</td>\n",
       "      <td>51</td>\n",
       "      <td>32</td>\n",
       "      <td>53</td>\n",
       "      <td>17</td>\n",
       "      <td>0</td>\n",
       "      <td>31</td>\n",
       "      <td>6</td>\n",
       "      <td>https://i.scdn.co/image/ab67616d0000b273e85259...</td>\n",
       "    </tr>\n",
       "    <tr>\n",
       "      <th>3</th>\n",
       "      <td>Cruel Summer</td>\n",
       "      <td>Taylor Swift</td>\n",
       "      <td>1</td>\n",
       "      <td>2019</td>\n",
       "      <td>8</td>\n",
       "      <td>23</td>\n",
       "      <td>7858</td>\n",
       "      <td>100</td>\n",
       "      <td>800840817</td>\n",
       "      <td>116</td>\n",
       "      <td>207</td>\n",
       "      <td>125</td>\n",
       "      <td>12</td>\n",
       "      <td>548</td>\n",
       "      <td>170</td>\n",
       "      <td>A</td>\n",
       "      <td>Major</td>\n",
       "      <td>55</td>\n",
       "      <td>58</td>\n",
       "      <td>72</td>\n",
       "      <td>11</td>\n",
       "      <td>0</td>\n",
       "      <td>11</td>\n",
       "      <td>15</td>\n",
       "      <td>https://i.scdn.co/image/ab67616d0000b273e787cf...</td>\n",
       "    </tr>\n",
       "    <tr>\n",
       "      <th>4</th>\n",
       "      <td>WHERE SHE GOES</td>\n",
       "      <td>Bad Bunny</td>\n",
       "      <td>1</td>\n",
       "      <td>2023</td>\n",
       "      <td>5</td>\n",
       "      <td>18</td>\n",
       "      <td>3133</td>\n",
       "      <td>50</td>\n",
       "      <td>303236322</td>\n",
       "      <td>84</td>\n",
       "      <td>133</td>\n",
       "      <td>87</td>\n",
       "      <td>15</td>\n",
       "      <td>425</td>\n",
       "      <td>144</td>\n",
       "      <td>A</td>\n",
       "      <td>Minor</td>\n",
       "      <td>65</td>\n",
       "      <td>23</td>\n",
       "      <td>80</td>\n",
       "      <td>14</td>\n",
       "      <td>63</td>\n",
       "      <td>11</td>\n",
       "      <td>6</td>\n",
       "      <td>https://i.scdn.co/image/ab67616d0000b273ab5c9c...</td>\n",
       "    </tr>\n",
       "  </tbody>\n",
       "</table>\n",
       "</div>"
      ],
      "text/plain": [
       "                            track_name    artist(s)_name  artist_count  \\\n",
       "0  Seven (feat. Latto) (Explicit Ver.)  Latto, Jung Kook             2   \n",
       "1                                 LALA       Myke Towers             1   \n",
       "2                              vampire    Olivia Rodrigo             1   \n",
       "3                         Cruel Summer      Taylor Swift             1   \n",
       "4                       WHERE SHE GOES         Bad Bunny             1   \n",
       "\n",
       "   released_year  released_month  released_day  in_spotify_playlists  \\\n",
       "0           2023               7            14                   553   \n",
       "1           2023               3            23                  1474   \n",
       "2           2023               6            30                  1397   \n",
       "3           2019               8            23                  7858   \n",
       "4           2023               5            18                  3133   \n",
       "\n",
       "   in_spotify_charts    streams  in_apple_playlists  in_apple_charts  \\\n",
       "0                147  141381703                  43              263   \n",
       "1                 48  133716286                  48              126   \n",
       "2                113  140003974                  94              207   \n",
       "3                100  800840817                 116              207   \n",
       "4                 50  303236322                  84              133   \n",
       "\n",
       "  in_deezer_playlists  in_deezer_charts in_shazam_charts  bpm key   mode  \\\n",
       "0                  45                10              826  125   B  Major   \n",
       "1                  58                14              382   92  C#  Major   \n",
       "2                  91                14              949  138   F  Major   \n",
       "3                 125                12              548  170   A  Major   \n",
       "4                  87                15              425  144   A  Minor   \n",
       "\n",
       "   danceability_%  valence_%  energy_%  acousticness_%  instrumentalness_%  \\\n",
       "0              80         89        83              31                   0   \n",
       "1              71         61        74               7                   0   \n",
       "2              51         32        53              17                   0   \n",
       "3              55         58        72              11                   0   \n",
       "4              65         23        80              14                  63   \n",
       "\n",
       "   liveness_%  speechiness_%  \\\n",
       "0           8              4   \n",
       "1          10              4   \n",
       "2          31              6   \n",
       "3          11             15   \n",
       "4          11              6   \n",
       "\n",
       "                                           cover_url  \n",
       "0                                          Not Found  \n",
       "1  https://i.scdn.co/image/ab67616d0000b2730656d5...  \n",
       "2  https://i.scdn.co/image/ab67616d0000b273e85259...  \n",
       "3  https://i.scdn.co/image/ab67616d0000b273e787cf...  \n",
       "4  https://i.scdn.co/image/ab67616d0000b273ab5c9c...  "
      ]
     },
     "execution_count": 267,
     "metadata": {},
     "output_type": "execute_result"
    }
   ],
   "source": [
    "df.head()"
   ]
  },
  {
   "cell_type": "code",
   "execution_count": 268,
   "id": "95ba88e6",
   "metadata": {},
   "outputs": [
    {
     "data": {
      "text/plain": [
       "track_name              object\n",
       "artist(s)_name          object\n",
       "artist_count             int64\n",
       "released_year            int64\n",
       "released_month           int64\n",
       "released_day             int64\n",
       "in_spotify_playlists     int64\n",
       "in_spotify_charts        int64\n",
       "streams                 object\n",
       "in_apple_playlists       int64\n",
       "in_apple_charts          int64\n",
       "in_deezer_playlists     object\n",
       "in_deezer_charts         int64\n",
       "in_shazam_charts        object\n",
       "bpm                      int64\n",
       "key                     object\n",
       "mode                    object\n",
       "danceability_%           int64\n",
       "valence_%                int64\n",
       "energy_%                 int64\n",
       "acousticness_%           int64\n",
       "instrumentalness_%       int64\n",
       "liveness_%               int64\n",
       "speechiness_%            int64\n",
       "cover_url               object\n",
       "dtype: object"
      ]
     },
     "execution_count": 268,
     "metadata": {},
     "output_type": "execute_result"
    }
   ],
   "source": [
    "# examine datatypes\n",
    "df.dtypes\n"
   ]
  },
  {
   "cell_type": "code",
   "execution_count": 269,
   "id": "c80c3e0b",
   "metadata": {},
   "outputs": [
    {
     "data": {
      "image/png": "[encoded data removed]",
      "text/plain": [
       "<Figure size 640x480 with 2 Axes>"
      ]
     },
     "metadata": {},
     "output_type": "display_data"
    }
   ],
   "source": [
    "# check for null values\n",
    "sns.heatmap(df.isnull());"
   ]
  },
  {
   "cell_type": "code",
   "execution_count": 270,
   "id": "a2d78fe4",
   "metadata": {},
   "outputs": [],
   "source": [
    "# drop rows with na in key column\n",
    "df = df.dropna(subset='key')"
   ]
  },
  {
   "cell_type": "code",
   "execution_count": 271,
   "id": "17f9e389",
   "metadata": {},
   "outputs": [],
   "source": [
    "# impute na values with zeros(string)\n",
    "df = df.fillna('0')"
   ]
  },
  {
   "cell_type": "code",
   "execution_count": 272,
   "id": "08dfc202",
   "metadata": {},
   "outputs": [
    {
     "data": {
      "text/html": [
       "<div>\n",
       "<style scoped>\n",
       "    .dataframe tbody tr th:only-of-type {\n",
       "        vertical-align: middle;\n",
       "    }\n",
       "\n",
       "    .dataframe tbody tr th {\n",
       "        vertical-align: top;\n",
       "    }\n",
       "\n",
       "    .dataframe thead th {\n",
       "        text-align: right;\n",
       "    }\n",
       "</style>\n",
       "<table border=\"1\" class=\"dataframe\">\n",
       "  <thead>\n",
       "    <tr style=\"text-align: right;\">\n",
       "      <th></th>\n",
       "      <th>streams</th>\n",
       "      <th>in_deezer_playlists</th>\n",
       "      <th>in_shazam_charts</th>\n",
       "    </tr>\n",
       "  </thead>\n",
       "  <tbody>\n",
       "    <tr>\n",
       "      <th>0</th>\n",
       "      <td>141381703</td>\n",
       "      <td>45</td>\n",
       "      <td>826</td>\n",
       "    </tr>\n",
       "    <tr>\n",
       "      <th>1</th>\n",
       "      <td>133716286</td>\n",
       "      <td>58</td>\n",
       "      <td>382</td>\n",
       "    </tr>\n",
       "    <tr>\n",
       "      <th>2</th>\n",
       "      <td>140003974</td>\n",
       "      <td>91</td>\n",
       "      <td>949</td>\n",
       "    </tr>\n",
       "    <tr>\n",
       "      <th>3</th>\n",
       "      <td>800840817</td>\n",
       "      <td>125</td>\n",
       "      <td>548</td>\n",
       "    </tr>\n",
       "    <tr>\n",
       "      <th>4</th>\n",
       "      <td>303236322</td>\n",
       "      <td>87</td>\n",
       "      <td>425</td>\n",
       "    </tr>\n",
       "  </tbody>\n",
       "</table>\n",
       "</div>"
      ],
      "text/plain": [
       "     streams in_deezer_playlists in_shazam_charts\n",
       "0  141381703                  45              826\n",
       "1  133716286                  58              382\n",
       "2  140003974                  91              949\n",
       "3  800840817                 125              548\n",
       "4  303236322                  87              425"
      ]
     },
     "execution_count": 272,
     "metadata": {},
     "output_type": "execute_result"
    }
   ],
   "source": [
    "# acquire columns that are suppose to be ints\n",
    "inc_dtypes = df[['streams','in_deezer_playlists','in_shazam_charts']]\n",
    "inc_dtypes.head()"
   ]
  },
  {
   "cell_type": "code",
   "execution_count": 244,
   "id": "5bf160e1",
   "metadata": {},
   "outputs": [],
   "source": [
    "# remove commas from certain but yet all in_deezer_playlists values\n",
    "inc_dtypes.in_deezer_playlists = [re.sub(',','',val) for val in inc_dtypes.in_deezer_playlists]\n"
   ]
  },
  {
   "cell_type": "code",
   "execution_count": 245,
   "id": "a7f62ec6",
   "metadata": {},
   "outputs": [],
   "source": [
    "# cast in_deezer_playlists values as an int\n",
    "inc_dtypes.in_deezer_playlists = inc_dtypes.in_deezer_playlists.astype('int64')"
   ]
  },
  {
   "cell_type": "code",
   "execution_count": 246,
   "id": "822aeb20",
   "metadata": {},
   "outputs": [],
   "source": [
    "# remove commas from certain but yet all in_shazam_charts values\n",
    "inc_dtypes.in_shazam_charts = [re.sub(',','',val) for val in inc_dtypes.in_shazam_charts]\n"
   ]
  },
  {
   "cell_type": "code",
   "execution_count": 247,
   "id": "ba259fe4",
   "metadata": {},
   "outputs": [],
   "source": [
    "# cast in_shazam_charts values as an int\n",
    "inc_dtypes.in_shazam_charts = inc_dtypes.in_shazam_charts.astype('int64')"
   ]
  },
  {
   "cell_type": "code",
   "execution_count": 248,
   "id": "c69310f1",
   "metadata": {},
   "outputs": [],
   "source": [
    "# repalce an arbitrary value in streams with its actual value \n",
    "inc_dtypes.streams[574] = '277324369'\n"
   ]
  },
  {
   "cell_type": "code",
   "execution_count": 249,
   "id": "f84278f5",
   "metadata": {},
   "outputs": [],
   "source": [
    "# cast streams values as an int\n",
    "inc_dtypes.streams = inc_dtypes.streams.astype('int64')"
   ]
  },
  {
   "cell_type": "code",
   "execution_count": 250,
   "id": "2d4b5f62",
   "metadata": {},
   "outputs": [
    {
     "data": {
      "text/plain": [
       "streams                int64\n",
       "in_deezer_playlists    int64\n",
       "in_shazam_charts       int64\n",
       "dtype: object"
      ]
     },
     "execution_count": 250,
     "metadata": {},
     "output_type": "execute_result"
    }
   ],
   "source": [
    "inc_dtypes.dtypes"
   ]
  },
  {
   "cell_type": "code",
   "execution_count": 251,
   "id": "f0983634",
   "metadata": {},
   "outputs": [],
   "source": [
    "# repalce the original/dirty columns with clean columns\n",
    "df.streams = inc_dtypes.streams\n",
    "df.in_deezer_playlists = inc_dtypes.in_deezer_playlists\n",
    "df.in_shazam_charts = inc_dtypes.in_shazam_charts\n"
   ]
  },
  {
   "cell_type": "code",
   "execution_count": 252,
   "id": "7de87b1f",
   "metadata": {},
   "outputs": [
    {
     "data": {
      "text/plain": [
       "track_name              object\n",
       "artist(s)_name          object\n",
       "artist_count             int64\n",
       "released_year            int64\n",
       "released_month           int64\n",
       "released_day             int64\n",
       "in_spotify_playlists     int64\n",
       "in_spotify_charts        int64\n",
       "streams                  int64\n",
       "in_apple_playlists       int64\n",
       "in_apple_charts          int64\n",
       "in_deezer_playlists      int64\n",
       "in_deezer_charts         int64\n",
       "in_shazam_charts         int64\n",
       "bpm                      int64\n",
       "key                     object\n",
       "mode                    object\n",
       "danceability_%           int64\n",
       "valence_%                int64\n",
       "energy_%                 int64\n",
       "acousticness_%           int64\n",
       "instrumentalness_%       int64\n",
       "liveness_%               int64\n",
       "speechiness_%            int64\n",
       "cover_url               object\n",
       "dtype: object"
      ]
     },
     "execution_count": 252,
     "metadata": {},
     "output_type": "execute_result"
    }
   ],
   "source": [
    "# success!\n",
    "df.dtypes"
   ]
  },
  {
   "cell_type": "markdown",
   "id": "c9e6a2bb",
   "metadata": {},
   "source": [
    "## Analysis of Spotify "
   ]
  },
  {
   "cell_type": "markdown",
   "id": "cfade387",
   "metadata": {},
   "source": [
    "### Overall Streams of Top Songs Over the Years"
   ]
  },
  {
   "cell_type": "code",
   "execution_count": 253,
   "id": "6cbeaa8f",
   "metadata": {},
   "outputs": [],
   "source": [
    "# obtain the unique years and sort them\n",
    "years = sorted(df.released_year.unique())\n"
   ]
  },
  {
   "cell_type": "code",
   "execution_count": 255,
   "id": "c36212df",
   "metadata": {},
   "outputs": [],
   "source": [
    "# acquire the sum of each plays in a each unique year\n",
    "total_streams_by_year = [df.loc[df.released_year == i].streams.sum() for i in years]\n"
   ]
  },
  {
   "cell_type": "code",
   "execution_count": 256,
   "id": "57bf4cbe",
   "metadata": {},
   "outputs": [
    {
     "data": {
      "text/html": [
       "<div>\n",
       "<style scoped>\n",
       "    .dataframe tbody tr th:only-of-type {\n",
       "        vertical-align: middle;\n",
       "    }\n",
       "\n",
       "    .dataframe tbody tr th {\n",
       "        vertical-align: top;\n",
       "    }\n",
       "\n",
       "    .dataframe thead th {\n",
       "        text-align: right;\n",
       "    }\n",
       "</style>\n",
       "<table border=\"1\" class=\"dataframe\">\n",
       "  <thead>\n",
       "    <tr style=\"text-align: right;\">\n",
       "      <th></th>\n",
       "      <th>year</th>\n",
       "      <th>total_plays</th>\n",
       "    </tr>\n",
       "  </thead>\n",
       "  <tbody>\n",
       "    <tr>\n",
       "      <th>0</th>\n",
       "      <td>1930</td>\n",
       "      <td>90598517</td>\n",
       "    </tr>\n",
       "    <tr>\n",
       "      <th>1</th>\n",
       "      <td>1942</td>\n",
       "      <td>395591396</td>\n",
       "    </tr>\n",
       "    <tr>\n",
       "      <th>2</th>\n",
       "      <td>1946</td>\n",
       "      <td>389771964</td>\n",
       "    </tr>\n",
       "    <tr>\n",
       "      <th>3</th>\n",
       "      <td>1950</td>\n",
       "      <td>473248298</td>\n",
       "    </tr>\n",
       "    <tr>\n",
       "      <th>4</th>\n",
       "      <td>1957</td>\n",
       "      <td>919962022</td>\n",
       "    </tr>\n",
       "  </tbody>\n",
       "</table>\n",
       "</div>"
      ],
      "text/plain": [
       "   year  total_plays\n",
       "0  1930     90598517\n",
       "1  1942    395591396\n",
       "2  1946    389771964\n",
       "3  1950    473248298\n",
       "4  1957    919962022"
      ]
     },
     "execution_count": 256,
     "metadata": {},
     "output_type": "execute_result"
    }
   ],
   "source": [
    "# create dataframe for plotting\n",
    "total_streams_df = pd.DataFrame(\n",
    "    {'year':years,\n",
    "    'total_plays': total_streams_by_year}\n",
    ")\n",
    "\n",
    "\n",
    "total_streams_df.head()"
   ]
  },
  {
   "cell_type": "code",
   "execution_count": 279,
   "id": "03713979",
   "metadata": {},
   "outputs": [
    {
     "data": {
      "image/png": "[encoded data removed]",
      "text/plain": [
       "<Figure size 640x480 with 1 Axes>"
      ]
     },
     "metadata": {},
     "output_type": "display_data"
    }
   ],
   "source": [
    "# plotting\n",
    "\n",
    "sns.lineplot(total_streams_df,x='year',y='total_plays')\n",
    "sns.scatterplot(total_streams_df,x='year',y='total_plays',alpha=0.7,color='green')\n",
    "\n",
    "plt.title('Total Streams for the Represented Years\\n(green points)')\n",
    "\n",
    "plt.ticklabel_format(style='plain', axis='both')\n",
    "plt.ylabel('total plays')\n",
    "plt.show()"
   ]
  },
  {
   "cell_type": "markdown",
   "id": "f18af070",
   "metadata": {},
   "source": [
    "#### Insight:\n",
    "\n",
    "The peak of total streams was in 2022 (>40 billion). We can see this point as an outlier. This also answers the question of what decades spotify useres are more interested in, that being music from 2010 and above. Songs from recent decades reach the top spots more compared to the songs from 1970's and below.\n"
   ]
  },
  {
   "cell_type": "markdown",
   "id": "d9d498d3",
   "metadata": {},
   "source": [
    "### Average Streams of Top Songs by Count of Artist in a Song"
   ]
  },
  {
   "cell_type": "code",
   "execution_count": 258,
   "id": "14a0de89",
   "metadata": {},
   "outputs": [
    {
     "data": {
      "text/plain": [
       "[1, 2, 3, 4, 5, 6, 7, 8]"
      ]
     },
     "execution_count": 258,
     "metadata": {},
     "output_type": "execute_result"
    }
   ],
   "source": [
    "# obtain the amount of artist that could have been in a song\n",
    "unique_artist_count =  sorted(pd.unique(df.artist_count))\n",
    "unique_artist_count"
   ]
  },
  {
   "cell_type": "code",
   "execution_count": 286,
   "id": "9b7e52a5",
   "metadata": {},
   "outputs": [
    {
     "data": {
      "text/plain": [
       "(858, 25)"
      ]
     },
     "execution_count": 286,
     "metadata": {},
     "output_type": "execute_result"
    }
   ],
   "source": [
    "df.shape"
   ]
  },
  {
   "cell_type": "code",
   "execution_count": 260,
   "id": "58e785e0",
   "metadata": {},
   "outputs": [],
   "source": [
    "# filtered the dataframe for each unique artist then acquire the mean of streams \n",
    "mean_stream_count_by_artist = [round(df.loc[df.artist_count == i].streams.mean(),0) for i in unique_artist_count]\n",
    "\n",
    "\n"
   ]
  },
  {
   "cell_type": "code",
   "execution_count": 261,
   "id": "644c21bc",
   "metadata": {},
   "outputs": [
    {
     "data": {
      "text/plain": [
       "[563610903.0,\n",
       " 467200976.0,\n",
       " 386039689.0,\n",
       " 320165540.0,\n",
       " 144808200.0,\n",
       " 87466453.0,\n",
       " 245400167.0,\n",
       " 223319934.0]"
      ]
     },
     "execution_count": 261,
     "metadata": {},
     "output_type": "execute_result"
    }
   ],
   "source": [
    "mean_stream_count_by_artist"
   ]
  },
  {
   "cell_type": "code",
   "execution_count": 262,
   "id": "8bc62ff8",
   "metadata": {},
   "outputs": [],
   "source": [
    "# create a dataframe for plotting\n",
    "artist_mean_streams_df = pd.DataFrame({\n",
    "    'artist_count':unique_artist_count,\n",
    "    'mean_streams': mean_stream_count_by_artist}).reset_index().drop('index',axis=1)"
   ]
  },
  {
   "cell_type": "code",
   "execution_count": 263,
   "id": "657628f2",
   "metadata": {},
   "outputs": [],
   "source": [
    "# cast mean_streams as an int\n",
    "artist_mean_streams_df.mean_streams = artist_mean_streams_df.mean_streams.astype(int)"
   ]
  },
  {
   "cell_type": "code",
   "execution_count": 281,
   "id": "29d50136",
   "metadata": {},
   "outputs": [
    {
     "data": {
      "image/png": "[encoded data removed]",
      "text/plain": [
       "<Figure size 640x480 with 1 Axes>"
      ]
     },
     "metadata": {},
     "output_type": "display_data"
    }
   ],
   "source": [
    "# plotting\n",
    "sns.barplot(artist_mean_streams_df,x='artist_count',y='mean_streams',palette='Dark2')\n",
    "plt.ylabel('mean_streamns(hundreds millions)')\n",
    "plt.title('Mean Streams by the Total Amount \\n of Artist in a Song')\n",
    "plt.show()"
   ]
  },
  {
   "cell_type": "markdown",
   "id": "6660efb8",
   "metadata": {},
   "source": [
    "##### Insight\n",
    "The top songs with only one artist have higher average compared to those with more than one artist. An important thing to note about this dataset is that the top songs have more 1-2 artist than those with greater artist count. Yet, tehre seems to be a downward trent for total artist to 1-6.The bars representing 7 and 8 belong to one value in the dataset."
   ]
  },
  {
   "cell_type": "markdown",
   "id": "ebc21352",
   "metadata": {},
   "source": [
    "### Top songs by Deacde Mapped by Their Mean Average Energy %"
   ]
  },
  {
   "cell_type": "code",
   "execution_count": 359,
   "id": "f412e008",
   "metadata": {},
   "outputs": [
    {
     "data": {
      "text/plain": [
       "(1930, 2023)"
      ]
     },
     "execution_count": 359,
     "metadata": {},
     "output_type": "execute_result"
    }
   ],
   "source": [
    "# observe the min and max years in the dataframe\n",
    "df.released_year.min(),df.released_year.max()\n"
   ]
  },
  {
   "cell_type": "code",
   "execution_count": 320,
   "id": "cde52e15",
   "metadata": {},
   "outputs": [
    {
     "data": {
      "text/plain": [
       "array([1930, 1940, 1950, 1960, 1970, 1980, 1990, 2000, 2010, 2020])"
      ]
     },
     "execution_count": 320,
     "metadata": {},
     "output_type": "execute_result"
    }
   ],
   "source": [
    "# create decade values\n",
    "decade_vals = np.arange(1930,2030,10)\n",
    "decade_vals"
   ]
  },
  {
   "cell_type": "code",
   "execution_count": 329,
   "id": "ad58b145",
   "metadata": {},
   "outputs": [
    {
     "data": {
      "text/plain": [
       "['1930-1939',\n",
       " '1940-1949',\n",
       " '1950-1959',\n",
       " '1960-1969',\n",
       " '1970-1979',\n",
       " '1980-1989',\n",
       " '1990-1999',\n",
       " '2000-2009',\n",
       " '2010-2019',\n",
       " '2020-2029']"
      ]
     },
     "execution_count": 329,
     "metadata": {},
     "output_type": "execute_result"
    }
   ],
   "source": [
    "# create decade ranges values\n",
    "decade_vals_str = [f\"{i}-{i+9}\" for i in decade_vals]\n",
    "decade_vals_str"
   ]
  },
  {
   "cell_type": "code",
   "execution_count": 346,
   "id": "d1507fee",
   "metadata": {},
   "outputs": [],
   "source": [
    "# obtain mean energy per decade\n",
    "# and break up the dataframe into the relevant decades\n",
    "mean_energy = [df.loc[(df.released_year >= i) & (df.released_year < i+10)][\"energy_%\"].mean() \n",
    "               for i in decade_vals]"
   ]
  },
  {
   "cell_type": "code",
   "execution_count": 347,
   "id": "3c37d2cd",
   "metadata": {},
   "outputs": [
    {
     "data": {
      "text/html": [
       "<div>\n",
       "<style scoped>\n",
       "    .dataframe tbody tr th:only-of-type {\n",
       "        vertical-align: middle;\n",
       "    }\n",
       "\n",
       "    .dataframe tbody tr th {\n",
       "        vertical-align: top;\n",
       "    }\n",
       "\n",
       "    .dataframe thead th {\n",
       "        text-align: right;\n",
       "    }\n",
       "</style>\n",
       "<table border=\"1\" class=\"dataframe\">\n",
       "  <thead>\n",
       "    <tr style=\"text-align: right;\">\n",
       "      <th></th>\n",
       "      <th>decade</th>\n",
       "      <th>mean_energy_%</th>\n",
       "    </tr>\n",
       "  </thead>\n",
       "  <tbody>\n",
       "    <tr>\n",
       "      <th>0</th>\n",
       "      <td>1930-1939</td>\n",
       "      <td>80.000000</td>\n",
       "    </tr>\n",
       "    <tr>\n",
       "      <th>1</th>\n",
       "      <td>1940-1949</td>\n",
       "      <td>20.000000</td>\n",
       "    </tr>\n",
       "    <tr>\n",
       "      <th>2</th>\n",
       "      <td>1950-1959</td>\n",
       "      <td>38.375000</td>\n",
       "    </tr>\n",
       "    <tr>\n",
       "      <th>3</th>\n",
       "      <td>1960-1969</td>\n",
       "      <td>71.000000</td>\n",
       "    </tr>\n",
       "    <tr>\n",
       "      <th>4</th>\n",
       "      <td>1970-1979</td>\n",
       "      <td>64.333333</td>\n",
       "    </tr>\n",
       "    <tr>\n",
       "      <th>5</th>\n",
       "      <td>1980-1989</td>\n",
       "      <td>70.818182</td>\n",
       "    </tr>\n",
       "    <tr>\n",
       "      <th>6</th>\n",
       "      <td>1990-1999</td>\n",
       "      <td>67.357143</td>\n",
       "    </tr>\n",
       "    <tr>\n",
       "      <th>7</th>\n",
       "      <td>2000-2009</td>\n",
       "      <td>69.882353</td>\n",
       "    </tr>\n",
       "    <tr>\n",
       "      <th>8</th>\n",
       "      <td>2010-2019</td>\n",
       "      <td>61.381295</td>\n",
       "    </tr>\n",
       "    <tr>\n",
       "      <th>9</th>\n",
       "      <td>2020-2029</td>\n",
       "      <td>65.053272</td>\n",
       "    </tr>\n",
       "  </tbody>\n",
       "</table>\n",
       "</div>"
      ],
      "text/plain": [
       "      decade  mean_energy_%\n",
       "0  1930-1939      80.000000\n",
       "1  1940-1949      20.000000\n",
       "2  1950-1959      38.375000\n",
       "3  1960-1969      71.000000\n",
       "4  1970-1979      64.333333\n",
       "5  1980-1989      70.818182\n",
       "6  1990-1999      67.357143\n",
       "7  2000-2009      69.882353\n",
       "8  2010-2019      61.381295\n",
       "9  2020-2029      65.053272"
      ]
     },
     "execution_count": 347,
     "metadata": {},
     "output_type": "execute_result"
    }
   ],
   "source": [
    "# create a data frame with the new data\n",
    "mean_energy_per_decade = pd.DataFrame(\n",
    "    {\"decade\":decade_vals_str,\n",
    "    'mean_energy_%':mean_energy}\n",
    "\n",
    ")\n",
    "mean_energy_per_decade"
   ]
  },
  {
   "cell_type": "code",
   "execution_count": 362,
   "id": "d8cddb88",
   "metadata": {},
   "outputs": [
    {
     "data": {
      "image/png": "[encoded data removed]",
      "text/plain": [
       "<Figure size 640x480 with 1 Axes>"
      ]
     },
     "metadata": {},
     "output_type": "display_data"
    }
   ],
   "source": [
    "# plot the data\n",
    "sns.barplot(mean_energy_per_decade,x='decade',y=\"mean_energy_%\")\n",
    "\n",
    "\n",
    "plt.title('Average Energy % of Top Songs for each Decade')\n",
    "plt.xticks(rotation=45.0)\n",
    "\n",
    "plt.show()"
   ]
  },
  {
   "cell_type": "markdown",
   "id": "43b7123e",
   "metadata": {},
   "source": [
    "##### Insight:\n",
    "**Note:** For the 1930s–1940s, there was only one song in the dataset, so this period will be excluded from genre-related insights.\n",
    "\n",
    "In the 1960s, there was a notable increase in the mean energy percentage of top songs. This decade marked the rise of rock music, which became more prevalent and garnered significant attention from the population.\n",
    "\n",
    "The top songs of the 1960s exhibited the highest average energy level at 71%, followed closely by the 1980s at 70.81%, with the 2000s ranking third at 69%.\n",
    "\n"
   ]
  }
 ],
 "metadata": {
  "kernelspec": {
   "display_name": "Python 3 (ipykernel)",
   "language": "python",
   "name": "python3"
  },
  "language_info": {
   "codemirror_mode": {
    "name": "ipython",
    "version": 3
   },
   "file_extension": ".py",
   "mimetype": "text/x-python",
   "name": "python",
   "nbconvert_exporter": "python",
   "pygments_lexer": "ipython3",
   "version": "3.11.8"
  },
  "toc": {
   "base_numbering": 1,
   "nav_menu": {},
   "number_sections": true,
   "sideBar": true,
   "skip_h1_title": false,
   "title_cell": "Table of Contents",
   "title_sidebar": "Contents",
   "toc_cell": false,
   "toc_position": {},
   "toc_section_display": true,
   "toc_window_display": false
  },
  "varInspector": {
   "cols": {
    "lenName": 16,
    "lenType": 16,
    "lenVar": 40
   },
   "kernels_config": {
    "python": {
     "delete_cmd_postfix": "",
     "delete_cmd_prefix": "del ",
     "library": "var_list.py",
     "varRefreshCmd": "print(var_dic_list())"
    },
    "r": {
     "delete_cmd_postfix": ") ",
     "delete_cmd_prefix": "rm(",
     "library": "var_list.r",
     "varRefreshCmd": "cat(var_dic_list()) "
    }
   },
   "types_to_exclude": [
    "module",
    "function",
    "builtin_function_or_method",
    "instance",
    "_Feature"
   ],
   "window_display": false
  }
 },
 "nbformat": 4,
 "nbformat_minor": 5
}
